{
 "cells": [
  {
   "cell_type": "markdown",
   "metadata": {},
   "source": [
    "# Visualizations: [PROJECT_NAME]\n",
    "\n",
    "Charts to make:\n",
    "1. \n",
    "2. \n",
    "3. \n",
    "\n",
    "***\n",
    "__Set up__"
   ]
  },
  {
   "cell_type": "code",
   "execution_count": null,
   "metadata": {},
   "outputs": [],
   "source": [
    "import altair as alt\n",
    "import pandas as pd\n",
    "from IPython.core.interactiveshell import InteractiveShell\n",
    "\n",
    "# pretty print all cell's output and not just the last one\n",
    "InteractiveShell.ast_node_interactivity = \"all\""
   ]
  },
  {
   "cell_type": "code",
   "execution_count": null,
   "metadata": {},
   "outputs": [],
   "source": [
    "data_file = \"NAME_OF_DATASET.csv\""
   ]
  },
  {
   "cell_type": "code",
   "execution_count": null,
   "metadata": {},
   "outputs": [],
   "source": [
    "df = pd.read_csv(f\"../data/raw/{data_file}\",)\n",
    "\n",
    "df.head()"
   ]
  },
  {
   "cell_type": "code",
   "execution_count": null,
   "metadata": {},
   "outputs": [],
   "source": [
    "title_1 = \"TITLE_OF_CHART\"\n",
    "\n",
    "chart_1 = alt.Chart(df).mark_bar().encode(\n",
    "    x = alt.X(),\n",
    "    y = alt.Y(),\n",
    "    color = alt.Color()\n",
    ").properties(\n",
    "    height = 400,\n",
    "    width = 600,\n",
    "    title = f\"{title_1}\"\n",
    ")"
   ]
  },
  {
   "cell_type": "code",
   "execution_count": null,
   "metadata": {},
   "outputs": [],
   "source": [
    "title_2 = \"TITLE_OF_CHART\"\n",
    "\n",
    "chart_2 = alt.Chart(df).mark_line().encode(\n",
    "    x = alt.X(),\n",
    "    y = alt.Y(),\n",
    "    color = alt.Color()\n",
    ").properties(\n",
    "    height = 400,\n",
    "    width = 600,\n",
    "    title = f\"{title_2}\"\n",
    ")"
   ]
  }
 ],
 "metadata": {
  "kernelspec": {
   "display_name": "Python 3",
   "language": "python",
   "name": "python3"
  },
  "language_info": {
   "codemirror_mode": {
    "name": "ipython",
    "version": 3
   },
   "file_extension": ".py",
   "mimetype": "text/x-python",
   "name": "python",
   "nbconvert_exporter": "python",
   "pygments_lexer": "ipython3",
   "version": "3.6.6"
  }
 },
 "nbformat": 4,
 "nbformat_minor": 2
}
